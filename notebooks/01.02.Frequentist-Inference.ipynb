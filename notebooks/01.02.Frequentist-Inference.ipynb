{
 "cells": [
  {
   "cell_type": "markdown",
   "metadata": {},
   "source": [
    "<!--NAVIGATION-->\n",
    "< [Algorithms and Inference](01.01.Algorithms-and-Inference.ipynb) | [Conteúdo](Index.ipynb) | [Bayesian Inference] >\n",
    "\n",
    "<a href=\"https://colab.research.google.com/github/fmafonseca/casi/blob/master/notebooks/01.02.Frequentist-Inference.ipynb\"><img align=\"left\" src=\"https://colab.research.google.com/assets/colab-badge.svg\" alt=\"Open in Colab\" title=\"Open and Execute in Google Colaboratory\"></a>"
   ]
  },
  {
   "cell_type": "markdown",
   "metadata": {},
   "source": [
    "# 2 Frequentist Inference"
   ]
  },
  {
   "cell_type": "markdown",
   "metadata": {},
   "source": [
    "### Glomerular Filtration data of Table 2.1 and elsewhere\n",
    "\n",
    "Os dados utilizados aqui são os disponibilizados no próprio site do livro através da URL https://web.stanford.edu/~hastie/CASI/data.html.\n",
    "\n",
    "Dados:\n",
    "- *Measurements of glomerular filtration rate for 211 kidney patients from the Nephrology laboratory of Dr Bryan Myers at Stanford University.*\n",
    "- https://web.stanford.edu/~hastie/CASI_files/DATA/gfr.txt"
   ]
  },
  {
   "cell_type": "code",
   "execution_count": 6,
   "metadata": {},
   "outputs": [
    {
     "data": {
      "text/html": [
       "<div>\n",
       "<style scoped>\n",
       "    .dataframe tbody tr th:only-of-type {\n",
       "        vertical-align: middle;\n",
       "    }\n",
       "\n",
       "    .dataframe tbody tr th {\n",
       "        vertical-align: top;\n",
       "    }\n",
       "\n",
       "    .dataframe thead th {\n",
       "        text-align: right;\n",
       "    }\n",
       "</style>\n",
       "<table border=\"1\" class=\"dataframe\">\n",
       "  <thead>\n",
       "    <tr style=\"text-align: right;\">\n",
       "      <th></th>\n",
       "      <th>glr</th>\n",
       "    </tr>\n",
       "  </thead>\n",
       "  <tbody>\n",
       "    <tr>\n",
       "      <th>0</th>\n",
       "      <td>108</td>\n",
       "    </tr>\n",
       "    <tr>\n",
       "      <th>1</th>\n",
       "      <td>91</td>\n",
       "    </tr>\n",
       "    <tr>\n",
       "      <th>2</th>\n",
       "      <td>62</td>\n",
       "    </tr>\n",
       "    <tr>\n",
       "      <th>3</th>\n",
       "      <td>59</td>\n",
       "    </tr>\n",
       "    <tr>\n",
       "      <th>4</th>\n",
       "      <td>84</td>\n",
       "    </tr>\n",
       "  </tbody>\n",
       "</table>\n",
       "</div>"
      ],
      "text/plain": [
       "   glr\n",
       "0  108\n",
       "1   91\n",
       "2   62\n",
       "3   59\n",
       "4   84"
      ]
     },
     "execution_count": 6,
     "metadata": {},
     "output_type": "execute_result"
    }
   ],
   "source": [
    "import pandas as pd\n",
    "\n",
    "gfr_df = pd.read_csv(\"data/gfr.txt\", delimiter=' ', header=None)\n",
    "gfr_df.columns = ['glr'] # rename column to 'glr'\n",
    "gfr_df.head()"
   ]
  },
  {
   "cell_type": "markdown",
   "metadata": {},
   "source": [
    "Esta seção se refere ao exemplo abaixo do livro:\n",
    "\n",
    "<blockquote>\n",
    "<em>We begin with another example from Dr. Myers’ nephrology laboratory: $211$ kidney patients have had their glomerular filtration rates measured, with the results shown in Figure 2.1; <strong><font color=green>gfr</font></strong> is an important indicator of kidney function, with low values suggesting trouble. (It is a key component of <strong><font color=green>tot</font></strong> in Figure 1.1). The mean and standard error (1.1)–(1.2) are $\\bar{x}=54.25$ and $\\hat{se}=0.95$, typically reported as</em>\n",
    "\n",
    "<p>\n",
    " $$\n",
    "54.25 \\pm 0.95\n",
    "$$\n",
    "</p>\n",
    "\n",
    "<p>\n",
    "$\\pm 0.95$ <em>denotes a <mark>frequentist inference</mark> for the accuracy of the estimate $\\bar{x}=54.25$, and <mark>suggests that we shouldn’t take the “$.25$” very seriously, even the “$4$” being open to doubt.</mark></em>\n",
    "</p>\n",
    "\n",
    "<p>\n",
    "<small>(Fonte: <em>Efron, B., & Hastie, T. (2016). Computer Age Statistical Inference: Algorithms, Evidence, and Data Science. Cambridge: Cambridge University Press.</em>)</small>\n",
    "</p>\n",
    "</blockquote>"
   ]
  },
  {
   "cell_type": "code",
   "execution_count": 20,
   "metadata": {},
   "outputs": [
    {
     "data": {
      "image/png": "[encoded data removed]",
      "text/plain": [
       "<Figure size 432x288 with 1 Axes>"
      ]
     },
     "metadata": {
      "needs_background": "light"
     },
     "output_type": "display_data"
    }
   ],
   "source": [
    "import matplotlib.pyplot as plt\n",
    "%matplotlib inline\n",
    "\n",
    "# Figure 2.1 Glomerular filtration rates for 211 kidney patients\n",
    "figure_2_1 = gfr_df.hist(column='glr', bins=31)"
   ]
  },
  {
   "cell_type": "code",
   "execution_count": 21,
   "metadata": {},
   "outputs": [
    {
     "name": "stdout",
     "output_type": "stream",
     "text": [
      "Number of glr measurements = 211\n",
      "Mean of glr measurements = 54.27\n",
      "Estimated standard error for mean of glr measurements = 0.94\n"
     ]
    }
   ],
   "source": [
    "import numpy as np\n",
    "\n",
    "n = len(gfr_df.index)\n",
    "mean_glr = gfr_df.glr.mean()\n",
    "estimated_se_glr = gfr_df.glr.std() / np.sqrt(n)\n",
    "\n",
    "print(\"Number of glr measurements = {0}\".format(n))\n",
    "print(\"Mean of glr measurements = {0:.2f}\".format(mean_glr))\n",
    "print(\"Estimated standard error for mean of glr measurements = {0:.2f}\".format(estimated_se_glr))"
   ]
  },
  {
   "cell_type": "markdown",
   "metadata": {},
   "source": [
    "É possível perceber que os números calculados aqui a partir do *[data set](https://web.stanford.edu/~hastie/CASI_files/DATA/gfr.txt)* disponibilizado no site do livro estão ligeiramente diferentes do livro, ou seja, $\\bar{x}=54.27$ ao invés de $\\bar{x}=54.25$ e $\\hat{se}=0.94$ ao invés de $\\hat{se}=0.95$. Porém, isto não invalida o exemplo.\n",
    "\n",
    "Mas de onde vem esta **inferência frequentista** $\\hat{se}$ a respeito da acurácia da estimativa $\\bar{x}$?\n",
    "\n",
    "<blockquote>\n",
    "<mark>Statistical inference usually begins with the assumption that some probability model has produced the observed data</mark> $x$, in our case the vector of $n=211$ <strong><font color=green>gfr</font></strong> measurements $x = \\left( x_1, x_2, \\ldots, x_n \\right)$. Let $X = \\left( X_1, X_2, \\ldots, X_n \\right)$ indicate $n$ independent draws from a probability distribution $F$, written\n",
    "\n",
    "<p>\n",
    "$$\n",
    "F \\rightarrow X\n",
    "$$\n",
    "</p>\n",
    "\n",
    "<p>\n",
    "$F$ being the underlying distribution of possible <strong><font color=green>gfr</font></strong> scores here. A realization $X=x$ of $F \\rightarrow X$ has been observed, and the statistician wishes to <mark><em>infer</em></mark> some property of the unknown distribution $F$.\n",
    "</p>\n",
    "\n",
    "<p>\n",
    "Suppose the desired property is the <em>expectation</em> of a single random draw $X$ from $F$, denoted\n",
    "</p>\n",
    "\n",
    "<p>\n",
    "$$\n",
    "\\theta = E_F \\{ X \\}\n",
    "$$\n",
    "</p>\n",
    "\n",
    "<p>\n",
    "The obvious estimate of $\\theta$ is $\\hat{\\theta}=\\bar{x}$, the sample average. If $n$ were enormous, say $10^{10}$, we would expect $\\hat{\\theta}$ to nearly equal $\\theta$, but otherwise there is room for error. <mark>How much error is the inferential question</mark>.\n",
    "</p>\n",
    "\n",
    "<p>\n",
    "The estimate $\\hat{\\theta}$ is calculated from $x$ according to some known algorithm, say\n",
    "</p>\n",
    "\n",
    "<p>\n",
    "$$\n",
    "\\hat{\\theta} = t \\left( x \\right) \\text{,}\n",
    "$$\n",
    "</p>\n",
    "\n",
    "<p>\n",
    "$t \\left( x \\right)$ in our example being the averaging function $\\bar{x} = \\sum_{i=1}^n \\frac{x_i}{n}$; $\\hat{\\theta}$ is a realization of\n",
    "</p>\n",
    "\n",
    "<p>\n",
    "$$\n",
    "\\hat{\\Theta} = t \\left( X \\right) \\text{,}\n",
    "$$\n",
    "</p>\n",
    "\n",
    "<p>\n",
    "the output of $t \\left( . \\right)$ applied to a theoretical sample $X$ from $F$. We have chosen $t \\left( X \\right)$, we hope, to make‚ $\\hat{\\Theta}$ a good estimator of $\\theta$, the desired property of $F$.\n",
    "</p>\n",
    "\n",
    "<p>\n",
    "We can now give a <font color=magenta>first definition of frequentist inference</font>: <mark><em>the accuracy of an observed estimate $\\hat{\\theta} = t \\left( x \\right)$ is the probabilistic accuracy of $\\hat{\\Theta} = t \\left( X \\right)$ as an estimator of $\\theta$</em></mark>. This may seem more a tautology than a definition, but it contains a powerful idea: <mark>$\\hat{\\theta}$ is just a single number but $\\hat{\\Theta}$ takes on a range of values whose spread can define measures of accuracy</mark>.\n",
    "</p>\n",
    "\n",
    "<p>\n",
    "<small>(Fonte: <em>Efron, B., & Hastie, T. (2016). Computer Age Statistical Inference: Algorithms, Evidence, and Data Science. Cambridge: Cambridge University Press.</em>)</small>\n",
    "</p>\n",
    "</blockquote>\n",
    "\n",
    "Então, no exemplo do livro temos até o momento que:\n",
    "- $F$ é a distribuição de possíveis valores de **<font color=green>gfr</font>**, ou seja, é o modelo probabilístico que gerou as $n=211$ observações $x = \\left( x_1, x_2, \\ldots, x_n \\right)$ de valores de **<font color=green>gfr</font>**.\n",
    "- Estamos interessados em descobrir o valor esperado (*expctation*) de um único sorteio aleatório $X$ a partir de $F$, ou seja, queremos saber qual o valor de $\\theta = E_F \\{ X \\}$. Mas não temos $F$.\n",
    "- Uma estimativa para $\\theta$ é $\\hat{\\theta}$, ou seja, $\\theta \\approx \\hat{\\theta} = t \\left( x \\right) = \\bar{x} = \\sum_{i=1}^n \\frac{x_i}{n} = 54.27$.\n",
    "- Mas dado que $\\hat{\\theta}$ é uma aproximação, então, qual a nossa incerteza em relação a $\\hat{\\theta}=54.27$?\n",
    "- Da mesma forma que $x = \\left( x_1, x_2, \\ldots, x_n \\right)$ é uma realização de $X$ (que é uma amostra teórica gerada a partir de $F$), $\\hat{\\theta}=t \\left( x \\right)=54.27$ também pode ser visto como uma realização de $\\hat{\\Theta}=t \\left( X \\right)$ (que representa os possíveis valores resultantes de $t \\left( . \\right)$ aplicados a possíveis amostras teóricas $X$ geradas a partir de $F$).\n",
    "- Então, $\\hat{\\Theta}$ pode assumir um intervalo de valores cuja a variação destes valores pode definir uma medida de incerteza.\n",
    "- Logo, aproveitando a primeira definição de inferência frequentista de que \"<mark><em>the accuracy of an observed estimate $\\hat{\\theta} = t \\left( x \\right)$ is the probabilistic accuracy of $\\hat{\\Theta} = t \\left( X \\right)$ as an estimator of $\\theta$</em></mark>\", podemos utilizar a variação de $\\hat{\\Theta}$ como uma medida da incerteza para a nossa estimativa $\\hat{\\theta}=54.27$.\n",
    "\n",
    "Mas como podemos medir esta incerteza?\n",
    "\n",
    "<blockquote>\n",
    "<mark>Bias and variance are familiar examples of frequentist inference</mark>. Define $\\mu$ to be the expectation of $\\hat{\\Theta} = t \\left( X \\right)$ under model $F \\rightarrow X$,\n",
    "\n",
    "<p>\n",
    "$$\n",
    "\\mu = E_F \\{ \\hat{\\Theta} \\} \\text{.}\n",
    "$$\n",
    "</p>\n",
    "\n",
    "<p>\n",
    "Then the bias and variance attributed to estimate $\\hat{\\theta}$ of parameter $\\theta$ are\n",
    "</p>\n",
    "\n",
    "<p>\n",
    "$$\n",
    "\\text{bias} = \\mu - \\theta \\enspace \\text{ and } \\enspace \\text{var} = E_F \\left\\{ \\left( \\hat{\\Theta} - \\mu \\right)^2 \\right\\}\n",
    "$$\n",
    "</p>\n",
    "\n",
    "<p>\n",
    "Again, what keeps this from tautology is the attribution to the single number $\\hat{\\theta}$ of the probabilistic properties of $\\hat{\\Theta}$ following from model $F \\rightarrow X$.\n",
    "</p>\n",
    "\n",
    "<p>\n",
    "<small>(Fonte: <em>Efron, B., & Hastie, T. (2016). Computer Age Statistical Inference: Algorithms, Evidence, and Data Science. Cambridge: Cambridge University Press.</em>)</small>\n",
    "</p>\n",
    "</blockquote>\n",
    "\n",
    "<blockquote>\n",
    "<mark>Frequentism is often defined with respect to “an infinite sequence of future trials”</mark>. We imagine hypothetical data sets $X^{(1)}, X^{(2)}, X^{(3)}, \\ldots$ generated by the same mechanism as $x$ providing corresponding values $\\hat{\\Theta}^{(1)}, \\hat{\\Theta}^{(2)}, \\hat{\\Theta}^{(3)}, \\ldots$ as in $\\hat{\\Theta} = t \\left( X \\right)$. <mark>The frequentist principle is then to attribute for $\\hat{\\theta}$ the accuracy properties of the ensemble of $\\hat{\\Theta}$ values</mark>.\n",
    "\n",
    "<p>\n",
    "<small>(Fonte: <em>Efron, B., & Hastie, T. (2016). Computer Age Statistical Inference: Algorithms, Evidence, and Data Science. Cambridge: Cambridge University Press.</em>)</small>\n",
    "</p>\n",
    "</blockquote>"
   ]
  },
  {
   "cell_type": "markdown",
   "metadata": {},
   "source": [
    "## 2.1 Frequentism in Practice\n",
    "\n",
    "A pergunta de antes ainda permanece, ou seja, como podemos medir, na prática, a variação de $\\hat{\\Theta}$ e utilizá-la como uma medida da incerteza para a nossa estimativa $\\hat{\\theta}=54.27$?\n",
    "\n",
    "<blockquote>\n",
    "Our working definition of frequentism is that <mark><em>the probabilistic properties of a procedure of interest are derived and then applied verbatim to the procedure’s output for the observed data</em>. This has an obvious defect: it requires calculating the properties of estimators $\\hat{\\Theta} = t \\left( X \\right)$ obtained from the true distribution $F$, even though $F$ is unknown</mark>. Practical frequentism uses a collection of more or less ingenious devices to circumvent the defect.\n",
    "\n",
    "<p>\n",
    "<strong><em>1. The plug-in principle.</em></strong> A simple formula relates the standard error of $\\bar{X} = \\sum_{i=1}^n \\frac{X_i}{n}$ to $\\text{var}_F \\left( X \\right)$, the variance of a single $X$ drawn from $F$,\n",
    "</p>\n",
    "\n",
    "<p>\n",
    "$$\n",
    "se \\left( \\bar{X} \\right) = \\left[ \\frac{\\text{var}_F \\left( X \\right)}{n} \\right]^{\\frac{1}{2}} \\text{.} \\enspace \\enspace \\text{(2.8)}\n",
    "$$\n",
    "</p>\n",
    "\n",
    "<p>\n",
    "But having observed $x = \\left( x_1, x_2, \\ldots, x_n \\right)$ we can estimate $\\text{var}_F \\left( X \\right)$ without bias by\n",
    "</p>\n",
    "\n",
    "<p>\n",
    "$$\n",
    "\\hat{\\text{var}}_F = \\frac{\\sum_{i=1}^n \\left( x_i - \\bar{x} \\right)^2}{n-1} \\text{.} \\enspace \\enspace \\text{(2.9)}\n",
    "$$\n",
    "</p>\n",
    "\n",
    "<p>\n",
    "Plugging formula (2.9) into (2.8) gives $\\hat{se} = \\left[ \\frac{\\sum_{i=1}^n \\left( x_i - \\bar{x} \\right)^2}{\\left( n \\left( n-1 \\right) \\right)} \\right]^{\\frac{1}{2}}$, the usual estimate for the standard error of an average $\\bar{x}$. In other words, the frequentist accuracy estimate for $\\bar{x}$ is itself estimated from the observed data.\n",
    "</p>\n",
    "\n",
    "<p>\n",
    "<small>(Fonte: <em>Efron, B., & Hastie, T. (2016). Computer Age Statistical Inference: Algorithms, Evidence, and Data Science. Cambridge: Cambridge University Press.</em>)</small>\n",
    "</p>\n",
    "</blockquote>\n",
    "\n",
    "Então, utilizando **(1)** a <font color=magenta>definição de inferência frequentista</font> de que \"<mark><em>the accuracy of an observed estimate $\\hat{\\theta} = t \\left( x \\right)$ is the probabilistic accuracy of $\\hat{\\Theta} = t \\left( X \\right)$ as an estimator of $\\theta$</em></mark>\" e utilizando **(2)** o *<font color=magenta>plug-in principle</font>* temos que:\n",
    "- **(1a)**: pelo Teorema Central do Limite (*Central Limit Theorem - CLT*), sob certas condições ([mais detalhes aqui](https://fmafonseca.github.io/statistical-thinking-data-science/001.teorema-central-do-limite.html)), a distribuição das <font color=blue>médias das amostras</font> (*<font color=blue>sample means</font>*) $\\bar{X}$ é aproximadamente normal (*nearly normal*), centrada na <font color=orange>média da população</font> (*<font color=orange>population mean</font>*) $\\mu_{pop}$, e com um <font color=blue>desvio padrão</font> (*<font color=blue>standard deviation</font>*) $SE$ igual ao <font color=orange>desvio padrão da população</font> (*<font color=orange>population standard deviation</font>*) $\\sigma$ dividido pela raiz quadrada do <font color=gray>tamanho das amostras</font> (*<font color=gray>samples size</font>*) $n$.\n",
    "\n",
    "$$\n",
    "\\bar{X} \\sim N\\left(mean=\\mu_{pop}, SE=\\frac{\\sigma}{\\sqrt{n}}\\right)\n",
    "$$\n",
    "\n",
    "- **(1b)**: fazendo a ligação entre o Teorema Central do Limite (*Central Limit Theorem - CLT*) e o exemplo do livro, temos que:\n",
    "  - $\\bar{X}$ está para $\\hat{\\Theta}$, assim como,\n",
    "  - $\\mu_{pop}$ está para $\\theta = E_F \\{ X \\}$, assim como,\n",
    "  - $SE$ está para $se \\left( \\bar{X} \\right)$, logo, temos como propriedades probabilísticas para $\\hat{\\Theta}$ o seguinte:\n",
    "\n",
    "$$\n",
    "\\hat{\\Theta} \\sim N\\left(mean=\\theta=E_F\\{X\\}, \\enspace SE=\\frac{\\sigma_F}{\\sqrt{n}}=\\left[ \\frac{\\text{var}_F \\left( X \\right)}{n} \\right]^{\\frac{1}{2}}\\right)\n",
    "$$\n",
    "\n",
    "- **(1c)**: e pela <font color=magenta>definição de inferência frequentista</font>, então, podemos assumir que a incerteza da estimativa $\\hat{\\theta}=54.27$ será medida pelo erro padrão (*standard deviation*) $SE=\\frac{\\sigma_F}{\\sqrt{n}}$ de $\\hat{\\Theta}$.\n",
    "\n",
    "- **(2)** : e, finalmente, pelo *<font color=magenta>plug-in principle</font>* podemos estimar o desvio padrão $\\sigma_F$ de $F$ através do desvio padrão $s$ do que foi observado via $x = \\left( x_1, x_2, \\ldots, x_n \\right)$. Que é a mesma coisa do que estimar $\\text{var}_F \\left( X \\right)$ através de $\\hat{\\text{var}}_F$ (equação 2.9 do livro).\n",
    "\n",
    "É deste modo que chegamos em\n",
    "\n",
    "$$\n",
    "\\hat{\\theta} \\pm \\hat{se} \\enspace \\Rightarrow \\enspace 54.27 \\pm 0.94\n",
    "$$"
   ]
  },
  {
   "cell_type": "code",
   "execution_count": 22,
   "metadata": {},
   "outputs": [
    {
     "name": "stdout",
     "output_type": "stream",
     "text": [
      "Number of glr measurements = 211\n",
      "Mean of glr measurements = 54.27\n",
      "Estimated standard error for mean of glr measurements = 0.94\n"
     ]
    }
   ],
   "source": [
    "n = len(gfr_df.index)\n",
    "mean_glr = gfr_df.glr.mean()\n",
    "estimated_se_glr = gfr_df.glr.std() / np.sqrt(n)\n",
    "\n",
    "print(\"Number of glr measurements = {0}\".format(n))\n",
    "print(\"Mean of glr measurements = {0:.2f}\".format(mean_glr))\n",
    "print(\"Estimated standard error for mean of glr measurements = {0:.2f}\".format(estimated_se_glr))"
   ]
  },
  {
   "cell_type": "markdown",
   "metadata": {},
   "source": [
    "<!--NAVIGATION-->\n",
    "< [Algorithms and Inference](01.01.Algorithms-and-Inference.ipynb) | [Conteúdo](Index.ipynb) | [Bayesian Inference] >\n",
    "\n",
    "<a href=\"https://colab.research.google.com/github/fmafonseca/casi/blob/master/notebooks/01.02.Frequentist-Inference.ipynb\"><img align=\"left\" src=\"https://colab.research.google.com/assets/colab-badge.svg\" alt=\"Open in Colab\" title=\"Open and Execute in Google Colaboratory\"></a>"
   ]
  },
  {
   "cell_type": "code",
   "execution_count": null,
   "metadata": {},
   "outputs": [],
   "source": []
  }
 ],
 "metadata": {
  "kernelspec": {
   "display_name": "Python 3",
   "language": "python",
   "name": "python3"
  },
  "language_info": {
   "codemirror_mode": {
    "name": "ipython",
    "version": 3
   },
   "file_extension": ".py",
   "mimetype": "text/x-python",
   "name": "python",
   "nbconvert_exporter": "python",
   "pygments_lexer": "ipython3",
   "version": "3.7.0"
  }
 },
 "nbformat": 4,
 "nbformat_minor": 2
}
